{
 "cells": [
  {
   "cell_type": "code",
   "execution_count": 2,
   "id": "2dcb914b",
   "metadata": {},
   "outputs": [],
   "source": [
    "import tkinter as tk\n",
    "from tkinter import messagebox\n",
    "\n",
    "# Create the main application window\n",
    "root = tk.Tk()\n",
    "root.title(\"Simple Calculator\")\n",
    "root.geometry(\"400x500\")\n",
    "\n",
    "# Define the functions for arithmetic operations\n",
    "def add():\n",
    "    try:\n",
    "        result.set(float(entry1.get()) + float(entry2.get()))\n",
    "    except ValueError:\n",
    "        messagebox.showerror(\"Input Error\", \"Please enter valid numbers\")\n",
    "\n",
    "def subtract():\n",
    "    try:\n",
    "        result.set(float(entry1.get()) - float(entry2.get()))\n",
    "    except ValueError:\n",
    "        messagebox.showerror(\"Input Error\", \"Please enter valid numbers\")\n",
    "\n",
    "def multiply():\n",
    "    try:\n",
    "        result.set(float(entry1.get()) * float(entry2.get()))\n",
    "    except ValueError:\n",
    "        messagebox.showerror(\"Input Error\", \"Please enter valid numbers\")\n",
    "\n",
    "def divide():\n",
    "    try:\n",
    "        if float(entry2.get()) == 0:\n",
    "            messagebox.showerror(\"Math Error\", \"Division by zero is not allowed\")\n",
    "        else:\n",
    "            result.set(float(entry1.get()) / float(entry2.get()))\n",
    "    except ValueError:\n",
    "        messagebox.showerror(\"Input Error\", \"Please enter valid numbers\")\n",
    "\n",
    "# Create and place the widgets (entries, buttons, and labels)\n",
    "tk.Label(root, text=\"Enter first number:\").pack()\n",
    "entry1 = tk.Entry(root)\n",
    "entry1.pack()\n",
    "\n",
    "tk.Label(root, text=\"Enter second number:\").pack()\n",
    "entry2 = tk.Entry(root)\n",
    "entry2.pack()\n",
    "\n",
    "result = tk.StringVar()\n",
    "tk.Label(root, text=\"Result:\").pack()\n",
    "tk.Entry(root, textvariable=result, state='readonly').pack()\n",
    "\n",
    "tk.Button(root, text=\"Add\", command=add).pack()\n",
    "tk.Button(root, text=\"Subtract\", command=subtract).pack()\n",
    "tk.Button(root, text=\"Multiply\", command=multiply).pack()\n",
    "tk.Button(root, text=\"Divide\", command=divide).pack()\n",
    "\n",
    "# Run the main application loop\n",
    "root.mainloop()\n"
   ]
  },
  {
   "cell_type": "code",
   "execution_count": null,
   "id": "d7252674",
   "metadata": {},
   "outputs": [],
   "source": []
  }
 ],
 "metadata": {
  "kernelspec": {
   "display_name": "Python 3 (ipykernel)",
   "language": "python",
   "name": "python3"
  },
  "language_info": {
   "codemirror_mode": {
    "name": "ipython",
    "version": 3
   },
   "file_extension": ".py",
   "mimetype": "text/x-python",
   "name": "python",
   "nbconvert_exporter": "python",
   "pygments_lexer": "ipython3",
   "version": "3.11.5"
  }
 },
 "nbformat": 4,
 "nbformat_minor": 5
}
